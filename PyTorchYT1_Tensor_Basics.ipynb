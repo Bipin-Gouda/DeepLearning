{
  "nbformat": 4,
  "nbformat_minor": 0,
  "metadata": {
    "colab": {
      "provenance": [],
      "gpuType": "T4",
      "authorship_tag": "ABX9TyMiQGZa43EVA7i7MQqTW5MZ",
      "include_colab_link": true
    },
    "kernelspec": {
      "name": "python3",
      "display_name": "Python 3"
    },
    "language_info": {
      "name": "python"
    },
    "gpuClass": "standard"
  },
  "cells": [
    {
      "cell_type": "markdown",
      "metadata": {
        "id": "view-in-github",
        "colab_type": "text"
      },
      "source": [
        "<a href=\"https://colab.research.google.com/github/Bipin-Gouda/DeepLearning/blob/main/PyTorchYT1_Tensor_Basics.ipynb\" target=\"_parent\"><img src=\"https://colab.research.google.com/assets/colab-badge.svg\" alt=\"Open In Colab\"/></a>"
      ]
    },
    {
      "cell_type": "code",
      "execution_count": null,
      "metadata": {
        "id": "6hPQ2-9gm4lM"
      },
      "outputs": [],
      "source": [
        "import torch\n"
      ]
    },
    {
      "cell_type": "markdown",
      "source": [
        "# Tensor"
      ],
      "metadata": {
        "id": "TRCbwgwxSG5l"
      }
    },
    {
      "cell_type": "code",
      "source": [
        "# defining a tensor normally\n",
        "x=torch.tensor([3,4])\n",
        "print(x,x.dtype,\"dimensions=\",x.ndim)"
      ],
      "metadata": {
        "colab": {
          "base_uri": "https://localhost:8080/"
        },
        "id": "dtl3Xh9YO-NJ",
        "outputId": "8e057e09-22b6-417e-e57c-5fd3e95954c7"
      },
      "execution_count": null,
      "outputs": [
        {
          "output_type": "stream",
          "name": "stdout",
          "text": [
            "tensor([3, 4]) torch.int64 dimensions= 1\n"
          ]
        }
      ]
    },
    {
      "cell_type": "code",
      "source": [
        "x=torch.tensor(3.0)"
      ],
      "metadata": {
        "id": "Hu-Sko2RQ07V"
      },
      "execution_count": null,
      "outputs": []
    },
    {
      "cell_type": "code",
      "source": [
        "# Creating random tensors of  some input size torch.empty() oR torch.rand()\n",
        "x=torch.empty(3,4)     # 1D,2D,3D,4D     \n",
        "print(x,x.dtype)"
      ],
      "metadata": {
        "id": "Fv61pHbeQb9Z",
        "colab": {
          "base_uri": "https://localhost:8080/"
        },
        "outputId": "ee829580-8615-4d68-c2c9-b4137bb90790"
      },
      "execution_count": null,
      "outputs": [
        {
          "output_type": "stream",
          "name": "stdout",
          "text": [
            "tensor([[ 1.4599e-27,  4.5622e-41,  8.9258e-28,  4.5622e-41],\n",
            "        [ 1.2943e-27,  4.5622e-41, -1.3920e+35,  4.5621e-41],\n",
            "        [ 1.4876e-27,  4.5622e-41, -1.3920e+35,  4.5621e-41]]) torch.float32\n"
          ]
        }
      ]
    },
    {
      "cell_type": "code",
      "source": [
        "x=torch.rand(3,4,dtype=torch.double)\n",
        "print(x.dtype)"
      ],
      "metadata": {
        "colab": {
          "base_uri": "https://localhost:8080/"
        },
        "id": "slK9epkSxQHi",
        "outputId": "6449b730-5147-46a9-f468-b02957b2e1b1"
      },
      "execution_count": null,
      "outputs": [
        {
          "output_type": "stream",
          "name": "stdout",
          "text": [
            "torch.float64\n"
          ]
        }
      ]
    },
    {
      "cell_type": "code",
      "source": [
        "print(x)"
      ],
      "metadata": {
        "colab": {
          "base_uri": "https://localhost:8080/"
        },
        "id": "GBiPBmDOyA1Y",
        "outputId": "33f6e179-c210-483b-b558-fa6dfef7f2fc"
      },
      "execution_count": null,
      "outputs": [
        {
          "output_type": "stream",
          "name": "stdout",
          "text": [
            "tensor([[0.2012, 0.8797, 0.8704, 0.4898],\n",
            "        [0.9017, 0.5701, 0.9588, 0.2072],\n",
            "        [0.9882, 0.8264, 0.6434, 0.2933]], dtype=torch.float64)\n"
          ]
        }
      ]
    },
    {
      "cell_type": "markdown",
      "source": [
        "# Ones & Zeros"
      ],
      "metadata": {
        "id": "534QllJDSyLa"
      }
    },
    {
      "cell_type": "code",
      "source": [
        "y=torch.ones(3,4,dtype=int)\n",
        "print(y,y.size(),torch.dtype)"
      ],
      "metadata": {
        "colab": {
          "base_uri": "https://localhost:8080/"
        },
        "id": "KVsqSdgazkOw",
        "outputId": "651594fa-2c80-46dc-cd47-4aab730124a8"
      },
      "execution_count": null,
      "outputs": [
        {
          "output_type": "stream",
          "name": "stdout",
          "text": [
            "tensor([[1, 1, 1, 1],\n",
            "        [1, 1, 1, 1],\n",
            "        [1, 1, 1, 1]]) torch.Size([3, 4]) <class 'torch.dtype'>\n"
          ]
        }
      ]
    },
    {
      "cell_type": "code",
      "source": [
        "z= torch.zeros(3,4,dtype=torch.int64)"
      ],
      "metadata": {
        "id": "rsIeWNqH0OdZ"
      },
      "execution_count": null,
      "outputs": []
    },
    {
      "cell_type": "code",
      "source": [
        "print(z)"
      ],
      "metadata": {
        "colab": {
          "base_uri": "https://localhost:8080/"
        },
        "id": "dMGsmOkw0cWQ",
        "outputId": "88775cc5-896b-4da2-e596-999da95a77fc"
      },
      "execution_count": null,
      "outputs": [
        {
          "output_type": "stream",
          "name": "stdout",
          "text": [
            "tensor([[0, 0, 0, 0],\n",
            "        [0, 0, 0, 0],\n",
            "        [0, 0, 0, 0]])\n"
          ]
        }
      ]
    },
    {
      "cell_type": "markdown",
      "source": [
        "# Range of tensors"
      ],
      "metadata": {
        "id": "vpBAssQ7Ssym"
      }
    },
    {
      "cell_type": "code",
      "source": [
        "m=torch.arange(4,50,6)"
      ],
      "metadata": {
        "id": "XlGRKDLoSoWZ"
      },
      "execution_count": null,
      "outputs": []
    },
    {
      "cell_type": "code",
      "source": [
        "print(m,m.dtype,m.shape)"
      ],
      "metadata": {
        "id": "_8BEzv9eSpR5",
        "colab": {
          "base_uri": "https://localhost:8080/"
        },
        "outputId": "cd12c1a5-4cab-471e-efba-68137f9e8c0d"
      },
      "execution_count": null,
      "outputs": [
        {
          "output_type": "stream",
          "name": "stdout",
          "text": [
            "tensor([ 4, 10, 16, 22, 28, 34, 40, 46]) torch.int64 torch.Size([8])\n"
          ]
        }
      ]
    },
    {
      "cell_type": "markdown",
      "source": [
        "# Operations"
      ],
      "metadata": {
        "id": "rL97L3J0UPny"
      }
    },
    {
      "cell_type": "code",
      "source": [
        "x=torch.tensor([[1,2],\n",
        "                [3,4]])\n",
        "y=torch.tensor([[4,5],\n",
        "                [6,7]])\n",
        "print(x)\n",
        "print(y)\n"
      ],
      "metadata": {
        "colab": {
          "base_uri": "https://localhost:8080/"
        },
        "id": "VDgn6DX3USGK",
        "outputId": "7d10c898-1c6f-4e2d-8722-46033a2939f7"
      },
      "execution_count": null,
      "outputs": [
        {
          "output_type": "stream",
          "name": "stdout",
          "text": [
            "tensor([[1, 2],\n",
            "        [3, 4]])\n",
            "tensor([[4, 5],\n",
            "        [6, 7]])\n"
          ]
        }
      ]
    },
    {
      "cell_type": "code",
      "source": [
        "z=x+y    # oR torch.add(x,y)\n",
        "print(z)"
      ],
      "metadata": {
        "colab": {
          "base_uri": "https://localhost:8080/"
        },
        "id": "AMQRi5WnUdYD",
        "outputId": "974094b4-845e-4451-d8f9-4b90fa1fc72b"
      },
      "execution_count": null,
      "outputs": [
        {
          "output_type": "stream",
          "name": "stdout",
          "text": [
            "tensor([[ 5,  7],\n",
            "        [ 9, 11]])\n"
          ]
        }
      ]
    },
    {
      "cell_type": "code",
      "source": [
        "z=x-y     # oR torch.sub(x,y)\n",
        "print(z)"
      ],
      "metadata": {
        "colab": {
          "base_uri": "https://localhost:8080/"
        },
        "id": "LGlDg24jVqgr",
        "outputId": "7d6c9399-bb8c-4f18-f85d-649c10ee4fe3"
      },
      "execution_count": null,
      "outputs": [
        {
          "output_type": "stream",
          "name": "stdout",
          "text": [
            "tensor([[-3, -3],\n",
            "        [-3, -3]])\n"
          ]
        }
      ]
    },
    {
      "cell_type": "code",
      "source": [
        "z=x*y    # element wise - oR torch.mul(x,y)\n",
        "print(z)"
      ],
      "metadata": {
        "colab": {
          "base_uri": "https://localhost:8080/"
        },
        "id": "HWIQwE-VVt8v",
        "outputId": "d7c3cbc0-6eaf-4eb6-83aa-f90168d0206e"
      },
      "execution_count": null,
      "outputs": [
        {
          "output_type": "stream",
          "name": "stdout",
          "text": [
            "tensor([[ 4, 10],\n",
            "        [18, 28]])\n"
          ]
        }
      ]
    },
    {
      "cell_type": "code",
      "source": [
        "z=x/y    # oR torch.div(x,y)\n",
        "print(z)"
      ],
      "metadata": {
        "colab": {
          "base_uri": "https://localhost:8080/"
        },
        "id": "jI8UzZIlvbUj",
        "outputId": "21a57fbc-8582-4a2b-cb23-07e68216b398"
      },
      "execution_count": null,
      "outputs": [
        {
          "output_type": "stream",
          "name": "stdout",
          "text": [
            "tensor([[0.2500, 0.4000],\n",
            "        [0.5000, 0.5714]])\n"
          ]
        }
      ]
    },
    {
      "cell_type": "code",
      "source": [
        "z=torch.matmul(x,y)  # matrix multiplication - matmul(), mm(), @\n",
        "print(z)"
      ],
      "metadata": {
        "colab": {
          "base_uri": "https://localhost:8080/"
        },
        "id": "BhKv8nRNVyZw",
        "outputId": "89c7df4c-0096-4309-ee85-ea7477e3c78d"
      },
      "execution_count": null,
      "outputs": [
        {
          "output_type": "stream",
          "name": "stdout",
          "text": [
            "tensor([[16, 19],\n",
            "        [36, 43]])\n"
          ]
        }
      ]
    },
    {
      "cell_type": "markdown",
      "source": [
        "# Inplace Operations\n",
        "\n",
        "- all functions with `_`(underscore are inplace operations ie they willl change the original value"
      ],
      "metadata": {
        "id": "24rR1fBiW7wY"
      }
    },
    {
      "cell_type": "code",
      "source": [
        "print(x)\n",
        "print(y)\n"
      ],
      "metadata": {
        "colab": {
          "base_uri": "https://localhost:8080/"
        },
        "id": "hj9_YfwVchux",
        "outputId": "9418c084-0aec-4492-e1d8-15197209457d"
      },
      "execution_count": null,
      "outputs": [
        {
          "output_type": "stream",
          "name": "stdout",
          "text": [
            "tensor([[1, 2],\n",
            "        [3, 4]])\n",
            "tensor([[4, 5],\n",
            "        [6, 7]])\n"
          ]
        }
      ]
    },
    {
      "cell_type": "code",
      "source": [
        "y.add_(x)\n",
        "print(y)"
      ],
      "metadata": {
        "colab": {
          "base_uri": "https://localhost:8080/"
        },
        "id": "3YsMOLjLelgU",
        "outputId": "ffe87bfe-853c-4d39-8392-8d38729602bd"
      },
      "execution_count": null,
      "outputs": [
        {
          "output_type": "stream",
          "name": "stdout",
          "text": [
            "tensor([[ 5,  7],\n",
            "        [ 9, 11]])\n"
          ]
        }
      ]
    },
    {
      "cell_type": "code",
      "source": [
        "y.sub_(x)\n",
        "print(y)"
      ],
      "metadata": {
        "colab": {
          "base_uri": "https://localhost:8080/"
        },
        "id": "5bllTFCweuOv",
        "outputId": "2a174864-503b-4ac6-80c3-5b57e90a52d9"
      },
      "execution_count": null,
      "outputs": [
        {
          "output_type": "stream",
          "name": "stdout",
          "text": [
            "tensor([[4, 5],\n",
            "        [6, 7]])\n"
          ]
        }
      ]
    },
    {
      "cell_type": "code",
      "source": [
        "y.mul_(x)\n",
        "print(y)"
      ],
      "metadata": {
        "colab": {
          "base_uri": "https://localhost:8080/"
        },
        "id": "hBrAZlzSgzpX",
        "outputId": "90aafb48-9624-47e2-8c49-fab419180725"
      },
      "execution_count": null,
      "outputs": [
        {
          "output_type": "stream",
          "name": "stdout",
          "text": [
            "tensor([[ 4, 10],\n",
            "        [18, 28]])\n"
          ]
        }
      ]
    },
    {
      "cell_type": "code",
      "source": [
        "y=y.float()\n",
        "print(y.dtype)     # we need to change datatype of y from int to float to store the changes which are decimal values  \n",
        "y.div_(x)\n",
        "y=y.int()\n",
        "print(y)"
      ],
      "metadata": {
        "colab": {
          "base_uri": "https://localhost:8080/"
        },
        "id": "yu57I8TSg51s",
        "outputId": "8fc69798-726c-44cb-c511-180414f43192"
      },
      "execution_count": null,
      "outputs": [
        {
          "output_type": "stream",
          "name": "stdout",
          "text": [
            "torch.float32\n",
            "tensor([[4, 5],\n",
            "        [6, 7]], dtype=torch.int32)\n"
          ]
        }
      ]
    },
    {
      "cell_type": "markdown",
      "source": [
        "# Slicing (indexing) like python"
      ],
      "metadata": {
        "id": "-H6NKVM8xtSR"
      }
    },
    {
      "cell_type": "code",
      "source": [
        "x=torch.rand(5,3)\n",
        "print(x)"
      ],
      "metadata": {
        "colab": {
          "base_uri": "https://localhost:8080/"
        },
        "id": "ESfgCmFex9Sg",
        "outputId": "a7262a2c-dfac-40ec-c752-9ecd75e0399f"
      },
      "execution_count": null,
      "outputs": [
        {
          "output_type": "stream",
          "name": "stdout",
          "text": [
            "tensor([[0.3082, 0.5841, 0.4121],\n",
            "        [0.3906, 0.9803, 0.3291],\n",
            "        [0.1537, 0.4788, 0.4847],\n",
            "        [0.8678, 0.1334, 0.1896],\n",
            "        [0.4418, 0.5333, 0.3697]])\n"
          ]
        }
      ]
    },
    {
      "cell_type": "code",
      "source": [
        "print(x[:,0]) # 1st column"
      ],
      "metadata": {
        "colab": {
          "base_uri": "https://localhost:8080/"
        },
        "id": "M2cs3dLIyJoU",
        "outputId": "3bb1d0e6-74d0-4956-abfa-2bc475b6f1bb"
      },
      "execution_count": null,
      "outputs": [
        {
          "output_type": "stream",
          "name": "stdout",
          "text": [
            "tensor([0.3082, 0.3906, 0.1537, 0.8678, 0.4418])\n"
          ]
        }
      ]
    },
    {
      "cell_type": "code",
      "source": [
        "print(x[0,:])  # 1st row"
      ],
      "metadata": {
        "colab": {
          "base_uri": "https://localhost:8080/"
        },
        "id": "pqRhR2nLyKgI",
        "outputId": "e4fab7f5-d30c-4b01-e910-c708e8ae1dc8"
      },
      "execution_count": null,
      "outputs": [
        {
          "output_type": "stream",
          "name": "stdout",
          "text": [
            "tensor([0.3082, 0.5841, 0.4121])\n"
          ]
        }
      ]
    },
    {
      "cell_type": "code",
      "source": [
        "print(x[0,0]) # 1st element\n",
        "print(x[1,1])\n",
        "print(x[1,1].item()) # gives the actual value of a tensor NOte : Only applicable for single values"
      ],
      "metadata": {
        "colab": {
          "base_uri": "https://localhost:8080/"
        },
        "id": "tdko47KeyirR",
        "outputId": "db67c712-abde-4212-9674-24fb3593cf4c"
      },
      "execution_count": null,
      "outputs": [
        {
          "output_type": "stream",
          "name": "stdout",
          "text": [
            "tensor(0.3082)\n",
            "tensor(0.9803)\n",
            "0.9803157448768616\n"
          ]
        }
      ]
    },
    {
      "cell_type": "markdown",
      "source": [
        "# Reshaping tensors\n",
        "\n",
        "- `view()` or `reshape()`\n",
        "- Note: the number of elements must be same\n",
        "\n"
      ],
      "metadata": {
        "id": "ZBg_PlOvzuau"
      }
    },
    {
      "cell_type": "code",
      "source": [
        "x= torch.rand(4,4)\n",
        "print(x)\n",
        "y=x.view(16)     \n",
        "print(y)"
      ],
      "metadata": {
        "colab": {
          "base_uri": "https://localhost:8080/"
        },
        "id": "vE2O5UU4z0Z9",
        "outputId": "67ec5be4-c166-4665-bf79-1fca42311bf6"
      },
      "execution_count": null,
      "outputs": [
        {
          "output_type": "stream",
          "name": "stdout",
          "text": [
            "tensor([[0.2049, 0.7562, 0.6128, 0.8899],\n",
            "        [0.6321, 0.8004, 0.6921, 0.9288],\n",
            "        [0.9541, 0.7081, 0.6510, 0.9426],\n",
            "        [0.1168, 0.0910, 0.8431, 0.8225]])\n",
            "tensor([0.2049, 0.7562, 0.6128, 0.8899, 0.6321, 0.8004, 0.6921, 0.9288, 0.9541,\n",
            "        0.7081, 0.6510, 0.9426, 0.1168, 0.0910, 0.8431, 0.8225])\n"
          ]
        }
      ]
    },
    {
      "cell_type": "code",
      "source": [
        "y=x.reshape(16)  # or (1,16)  samething \n",
        "print(y)"
      ],
      "metadata": {
        "colab": {
          "base_uri": "https://localhost:8080/"
        },
        "id": "xGADC_l-0JLy",
        "outputId": "1e08729d-d17f-4891-c5fc-605e7b12369e"
      },
      "execution_count": null,
      "outputs": [
        {
          "output_type": "stream",
          "name": "stdout",
          "text": [
            "tensor([0.2049, 0.7562, 0.6128, 0.8899, 0.6321, 0.8004, 0.6921, 0.9288, 0.9541,\n",
            "        0.7081, 0.6510, 0.9426, 0.1168, 0.0910, 0.8431, 0.8225])\n"
          ]
        }
      ]
    },
    {
      "cell_type": "code",
      "source": [
        "# if we know only one dimension not the other we can use -1\n",
        "print(x.view(-1,8))           #  2x8\n",
        "print(x.reshape(8,-1))        #  8x2"
      ],
      "metadata": {
        "colab": {
          "base_uri": "https://localhost:8080/"
        },
        "id": "fss9gZ221DRS",
        "outputId": "cd62bed7-d427-4edd-a811-490030bcccc9"
      },
      "execution_count": null,
      "outputs": [
        {
          "output_type": "stream",
          "name": "stdout",
          "text": [
            "tensor([[0.2049, 0.7562, 0.6128, 0.8899, 0.6321, 0.8004, 0.6921, 0.9288],\n",
            "        [0.9541, 0.7081, 0.6510, 0.9426, 0.1168, 0.0910, 0.8431, 0.8225]])\n",
            "tensor([[0.2049, 0.7562],\n",
            "        [0.6128, 0.8899],\n",
            "        [0.6321, 0.8004],\n",
            "        [0.6921, 0.9288],\n",
            "        [0.9541, 0.7081],\n",
            "        [0.6510, 0.9426],\n",
            "        [0.1168, 0.0910],\n",
            "        [0.8431, 0.8225]])\n"
          ]
        }
      ]
    },
    {
      "cell_type": "markdown",
      "source": [
        "# Numpy to torch tensor and vice versa\n"
      ],
      "metadata": {
        "id": "ABrvR5Jd2G4I"
      }
    },
    {
      "cell_type": "code",
      "source": [
        "import numpy as np"
      ],
      "metadata": {
        "id": "qnLwO9Kf4QWC"
      },
      "execution_count": null,
      "outputs": []
    },
    {
      "cell_type": "code",
      "source": [
        "a=torch.ones(5)\n",
        "print(a)"
      ],
      "metadata": {
        "colab": {
          "base_uri": "https://localhost:8080/"
        },
        "id": "1_6h-R-J4S-7",
        "outputId": "3a368e5f-65aa-4481-fa30-11a55104d3b7"
      },
      "execution_count": null,
      "outputs": [
        {
          "output_type": "stream",
          "name": "stdout",
          "text": [
            "tensor([1., 1., 1., 1., 1.])\n"
          ]
        }
      ]
    },
    {
      "cell_type": "code",
      "source": [
        "# tensor to numpy\n",
        "\n",
        "b=a.numpy()\n",
        "print(b)\n",
        "print(type(b))"
      ],
      "metadata": {
        "colab": {
          "base_uri": "https://localhost:8080/"
        },
        "id": "vuhtz75E4Z-A",
        "outputId": "30983dc7-7548-4eac-b9a0-47f611cdbf9d"
      },
      "execution_count": null,
      "outputs": [
        {
          "output_type": "stream",
          "name": "stdout",
          "text": [
            "[1. 1. 1. 1. 1.]\n",
            "<class 'numpy.ndarray'>\n"
          ]
        }
      ]
    },
    {
      "cell_type": "markdown",
      "source": [
        "Note : they will both point to the same location if they are both in device 'cpu' sso cahnging one will change other too, eg-"
      ],
      "metadata": {
        "id": "DyIo2ESe5WhD"
      }
    },
    {
      "cell_type": "code",
      "source": [
        "a.add_(1)\n",
        "print(a)\n",
        "print(b)      # both got added with 1"
      ],
      "metadata": {
        "colab": {
          "base_uri": "https://localhost:8080/"
        },
        "id": "DNG2HWyy5axx",
        "outputId": "60580408-49cf-4ece-b6b5-407529de12d7"
      },
      "execution_count": null,
      "outputs": [
        {
          "output_type": "stream",
          "name": "stdout",
          "text": [
            "tensor([2., 2., 2., 2., 2.])\n",
            "[2. 2. 2. 2. 2.]\n"
          ]
        }
      ]
    },
    {
      "cell_type": "code",
      "source": [
        "# numpy to tensor\n",
        "\n",
        "a=np.ones(5)\n",
        "print(a)\n",
        "b=torch.from_numpy(a)\n",
        "print(b)"
      ],
      "metadata": {
        "colab": {
          "base_uri": "https://localhost:8080/"
        },
        "id": "Tuf22xU85p8l",
        "outputId": "2c7c9bc1-c7dd-4d2e-bc42-b8f906daae92"
      },
      "execution_count": null,
      "outputs": [
        {
          "output_type": "stream",
          "name": "stdout",
          "text": [
            "[1. 1. 1. 1. 1.]\n",
            "tensor([1., 1., 1., 1., 1.], dtype=torch.float64)\n"
          ]
        }
      ]
    },
    {
      "cell_type": "code",
      "source": [
        "a+=1\n",
        "print(a)\n",
        "print(b)"
      ],
      "metadata": {
        "colab": {
          "base_uri": "https://localhost:8080/"
        },
        "id": "_0x7Ajvo-Yuf",
        "outputId": "be452919-3ab8-473a-cf53-425928c9df4b"
      },
      "execution_count": null,
      "outputs": [
        {
          "output_type": "stream",
          "name": "stdout",
          "text": [
            "[2. 2. 2. 2. 2.]\n",
            "tensor([2., 2., 2., 2., 2.], dtype=torch.float64)\n"
          ]
        }
      ]
    },
    {
      "cell_type": "code",
      "source": [
        "#print(a.device)    # error as a is a numpy array\n",
        "print(b.device)       # i"
      ],
      "metadata": {
        "colab": {
          "base_uri": "https://localhost:8080/"
        },
        "id": "KyYTQzOXBrH_",
        "outputId": "b85c438e-7bad-4ba9-9d08-f5f659ce10ee"
      },
      "execution_count": null,
      "outputs": [
        {
          "output_type": "stream",
          "name": "stdout",
          "text": [
            "cpu\n"
          ]
        }
      ]
    },
    {
      "cell_type": "markdown",
      "source": [
        "-  Note only cpu tensors are convertible to numpy array and vice versa for GPU tensors to cnvrt it to numpy array we need to cnvrt it to cpu tensor first."
      ],
      "metadata": {
        "id": "B5QbYfjLsUs7"
      }
    },
    {
      "cell_type": "code",
      "source": [
        "%%time\n",
        "if torch.cuda.is_available():         # if we have GPU\n",
        "  device=torch.device(\"cuda\")         \n",
        "  x=torch.ones(5, device=device)          # gpu tensor for faster operation\n",
        "  # oR\n",
        "  y=torch.ones(5)\n",
        "  y=y.to(device)\n",
        "  z=x@y\n",
        "  print(z)\n",
        "  #z.numpy()   \n",
        "         \n"
      ],
      "metadata": {
        "colab": {
          "base_uri": "https://localhost:8080/"
        },
        "id": "c5VlpApdohx1",
        "outputId": "5187dc66-c657-4e58-9d6d-d859c8bd1696"
      },
      "execution_count": null,
      "outputs": [
        {
          "output_type": "stream",
          "name": "stdout",
          "text": [
            "CPU times: user 415 µs, sys: 0 ns, total: 415 µs\n",
            "Wall time: 2.23 ms\n"
          ]
        }
      ]
    },
    {
      "cell_type": "markdown",
      "source": [
        "`requires_grad=True` by default it is False it tells pytorch it will have to calculate gradients for this tensor ie optimise it when required.\n"
      ],
      "metadata": {
        "id": "UFwLJqAgKMIr"
      }
    },
    {
      "cell_type": "code",
      "source": [
        "x=torch.ones(5,requires_grad=True)\n",
        "print(x)"
      ],
      "metadata": {
        "colab": {
          "base_uri": "https://localhost:8080/"
        },
        "id": "elGfacEGJ_Gh",
        "outputId": "a36aaf68-ae95-43fb-ce22-02c28b2972f0"
      },
      "execution_count": null,
      "outputs": [
        {
          "output_type": "stream",
          "name": "stdout",
          "text": [
            "tensor([1., 1., 1., 1., 1.], requires_grad=True)\n"
          ]
        }
      ]
    }
  ]
}