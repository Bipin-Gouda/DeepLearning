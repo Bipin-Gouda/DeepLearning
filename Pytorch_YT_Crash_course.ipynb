{
  "nbformat": 4,
  "nbformat_minor": 0,
  "metadata": {
    "colab": {
      "provenance": [],
      "authorship_tag": "ABX9TyPSQEaez2WP1bbZMvZMaDdf",
      "include_colab_link": true
    },
    "kernelspec": {
      "name": "python3",
      "display_name": "Python 3"
    },
    "language_info": {
      "name": "python"
    }
  },
  "cells": [
    {
      "cell_type": "markdown",
      "metadata": {
        "id": "view-in-github",
        "colab_type": "text"
      },
      "source": [
        "<a href=\"https://colab.research.google.com/github/Bipin-Gouda/DeepLearning/blob/main/Pytorch_YT_Crash_course.ipynb\" target=\"_parent\"><img src=\"https://colab.research.google.com/assets/colab-badge.svg\" alt=\"Open In Colab\"/></a>"
      ]
    },
    {
      "cell_type": "code",
      "execution_count": 2,
      "metadata": {
        "id": "_vHeFSiyXWDz"
      },
      "outputs": [],
      "source": [
        "import torch"
      ]
    },
    {
      "cell_type": "code",
      "source": [
        "# torch.empty(size)\n",
        "# torch.tensor()\n",
        "\n",
        "x=torch.empty(3)\n",
        "print(x)\n",
        "y=torch.tensor([3,4])\n",
        "print(y)"
      ],
      "metadata": {
        "colab": {
          "base_uri": "https://localhost:8080/"
        },
        "id": "IDpUOwhDY0by",
        "outputId": "ea9b6911-cf51-4f5d-8029-3c28990a0998"
      },
      "execution_count": 4,
      "outputs": [
        {
          "output_type": "stream",
          "name": "stdout",
          "text": [
            "tensor([1.0138e-34, 0.0000e+00, 9.4383e-35])\n",
            "tensor([3, 4])\n"
          ]
        }
      ]
    },
    {
      "cell_type": "code",
      "source": [
        "print(x.dtype)\n",
        "print(x.ndim,x.size())"
      ],
      "metadata": {
        "colab": {
          "base_uri": "https://localhost:8080/"
        },
        "id": "tF6-HA3cZvog",
        "outputId": "9b3a300b-96cd-432f-e5f4-b61df320d9d7"
      },
      "execution_count": 6,
      "outputs": [
        {
          "output_type": "stream",
          "name": "stdout",
          "text": [
            "torch.float32\n",
            "1 torch.Size([3])\n"
          ]
        }
      ]
    },
    {
      "cell_type": "code",
      "source": [
        "a=torch.rand(3,4,)\n",
        "print(a)\n",
        "b=torch.zeros(a.size())#size\n",
        "print(b)\n",
        "c=torch.ones(2,2)\n",
        "print(c)\n",
        "\n",
        "# Operations = +,-,/,*,@ (matmul) same rules of matrix"
      ],
      "metadata": {
        "colab": {
          "base_uri": "https://localhost:8080/"
        },
        "id": "_0W3WUHAaOxr",
        "outputId": "18808bb7-9257-494b-bbe0-44462235d22d"
      },
      "execution_count": 11,
      "outputs": [
        {
          "output_type": "stream",
          "name": "stdout",
          "text": [
            "tensor([[0.1938, 0.1119, 0.3249, 0.3321],\n",
            "        [0.3706, 0.6522, 0.3009, 0.1070],\n",
            "        [0.9702, 0.3851, 0.2938, 0.6090]])\n",
            "tensor([[0., 0., 0., 0.],\n",
            "        [0., 0., 0., 0.],\n",
            "        [0., 0., 0., 0.]])\n",
            "tensor([[1., 1.],\n",
            "        [1., 1.]])\n"
          ]
        }
      ]
    }
  ]
}